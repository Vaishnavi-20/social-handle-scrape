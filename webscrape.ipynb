{
  "nbformat": 4,
  "nbformat_minor": 0,
  "metadata": {
    "colab": {
      "name": "Untitled3.ipynb",
      "version": "0.3.2",
      "provenance": []
    },
    "kernelspec": {
      "name": "python3",
      "display_name": "Python 3"
    }
  },
  "cells": [
    {
      "metadata": {
        "id": "W2knlGOIb80n",
        "colab_type": "code",
        "colab": {}
      },
      "cell_type": "code",
      "source": [
        "from bs4 import BeautifulSoup\n",
        "import requests"
      ],
      "execution_count": 0,
      "outputs": []
    },
    {
      "metadata": {
        "id": "8JviwiXJcBhG",
        "colab_type": "code",
        "colab": {}
      },
      "cell_type": "code",
      "source": [
        "url = 'http://www.inspire-ai.io/'"
      ],
      "execution_count": 0,
      "outputs": []
    },
    {
      "metadata": {
        "id": "h-wYMkPNcG32",
        "colab_type": "code",
        "colab": {}
      },
      "cell_type": "code",
      "source": [
        "res = requests.get(url)"
      ],
      "execution_count": 0,
      "outputs": []
    },
    {
      "metadata": {
        "id": "-HwxViJwcaUR",
        "colab_type": "code",
        "colab": {}
      },
      "cell_type": "code",
      "source": [
        "# print(res)"
      ],
      "execution_count": 0,
      "outputs": []
    },
    {
      "metadata": {
        "id": "KrabnrfJcfJC",
        "colab_type": "code",
        "colab": {}
      },
      "cell_type": "code",
      "source": [
        "page = res.content"
      ],
      "execution_count": 0,
      "outputs": []
    },
    {
      "metadata": {
        "id": "tvoG6alCcmnY",
        "colab_type": "code",
        "colab": {}
      },
      "cell_type": "code",
      "source": [
        "# print(page)"
      ],
      "execution_count": 0,
      "outputs": []
    },
    {
      "metadata": {
        "id": "vAAP2xBNcphQ",
        "colab_type": "code",
        "colab": {}
      },
      "cell_type": "code",
      "source": [
        "soup = BeautifulSoup(page, 'html.parser')"
      ],
      "execution_count": 0,
      "outputs": []
    },
    {
      "metadata": {
        "id": "xaVpJ8uKc_7m",
        "colab_type": "code",
        "colab": {}
      },
      "cell_type": "code",
      "source": [
        "# print(soup)"
      ],
      "execution_count": 0,
      "outputs": []
    },
    {
      "metadata": {
        "id": "hBzaXzegfMgn",
        "colab_type": "code",
        "colab": {}
      },
      "cell_type": "code",
      "source": [
        "tag_slack = soup.find_all(\"a\", class_=\"icon fa-slack\")[0]\n",
        "tag_fb = soup.find_all(\"a\", class_=\"icon fa-facebook\")[0]\n",
        "tag_in = soup.find_all(\"a\", class_=\"icon fa-linkedin\")[0]\n",
        "tag_name = soup.find_all(\"a\")[0]"
      ],
      "execution_count": 0,
      "outputs": []
    },
    {
      "metadata": {
        "id": "7BfuJnfNjZOn",
        "colab_type": "code",
        "outputId": "fde281c5-c6b4-48b5-9db7-2629bdc9edab",
        "colab": {
          "base_uri": "https://localhost:8080/",
          "height": 105
        }
      },
      "cell_type": "code",
      "source": [
        "print (tag_slack['href'])\n",
        "print (tag_fb['href'])\n",
        "print (tag_in['href'])\n",
        "print (tag_name)\n"
      ],
      "execution_count": 0,
      "outputs": [
        {
          "output_type": "stream",
          "text": [
            "https://join.slack.com/t/ignitedmindsinspireai/shared_invite/enQtNDE3OTE1OTY4NjI3LWUwZWU2YTI1ZjUxMDgxNzljNWI5YzE1NzViMTc4MjU1YTFlZTgxNzUyNjcyZTQyN2YyNGY2N2NkMWRkOGYxZDg\n",
            "https://www.facebook.com/Inspireai-2120502954836824\n",
            "https://www.linkedin.com/company/inspire-ai/\n",
            "<a href=\"index.html\">Inspire Ai</a>\n"
          ],
          "name": "stdout"
        }
      ]
    },
    {
      "metadata": {
        "id": "oLvoEmE9j8-V",
        "colab_type": "code",
        "outputId": "a6806053-e7be-46d6-bec0-ac4b7c78fdd6",
        "colab": {
          "base_uri": "https://localhost:8080/",
          "height": 34
        }
      },
      "cell_type": "code",
      "source": [
        "print (tag_name['href'])"
      ],
      "execution_count": 0,
      "outputs": [
        {
          "output_type": "stream",
          "text": [
            "index.html\n"
          ],
          "name": "stdout"
        }
      ]
    },
    {
      "metadata": {
        "id": "VWrBk3yQlgYA",
        "colab_type": "code",
        "colab": {}
      },
      "cell_type": "code",
      "source": [
        "import pandas as pd"
      ],
      "execution_count": 0,
      "outputs": []
    },
    {
      "metadata": {
        "id": "3fenVUqplr2n",
        "colab_type": "code",
        "colab": {}
      },
      "cell_type": "code",
      "source": [
        "d = {'Url': [] ,'Name': [] ,'Facebook_handle': [] ,'LinkedIn_handle' : [] ,'Slack_handle' : []}"
      ],
      "execution_count": 0,
      "outputs": []
    },
    {
      "metadata": {
        "id": "OHf7gMvumDFx",
        "colab_type": "code",
        "colab": {}
      },
      "cell_type": "code",
      "source": [
        "d['Url'].append(url)\n",
        "d['Name'].append(tag_name.text)\n",
        "d['Facebook_handle'].append(tag_fb['href'])\n",
        "d['LinkedIn_handle'].append(tag_in['href'])\n",
        "d['Slack_handle'].append(tag_slack['href'])"
      ],
      "execution_count": 0,
      "outputs": []
    },
    {
      "metadata": {
        "id": "BUXu_U-pfx8V",
        "colab_type": "code",
        "outputId": "8e8164f6-a3fc-4fc0-9629-e8fab9145382",
        "colab": {
          "base_uri": "https://localhost:8080/",
          "height": 54
        }
      },
      "cell_type": "code",
      "source": [
        "print (d)"
      ],
      "execution_count": 0,
      "outputs": [
        {
          "output_type": "stream",
          "text": [
            "{'Url': ['http://www.inspire-ai.io/'], 'Name': ['Inspire Ai'], 'Facebook_handle': ['https://www.facebook.com/Inspireai-2120502954836824'], 'LinkedIn_handle': ['https://www.linkedin.com/company/inspire-ai/'], 'Slack_handle': ['https://join.slack.com/t/ignitedmindsinspireai/shared_invite/enQtNDE3OTE1OTY4NjI3LWUwZWU2YTI1ZjUxMDgxNzljNWI5YzE1NzViMTc4MjU1YTFlZTgxNzUyNjcyZTQyN2YyNGY2N2NkMWRkOGYxZDg']}\n"
          ],
          "name": "stdout"
        }
      ]
    },
    {
      "metadata": {
        "id": "PHhZWjMOf_DP",
        "colab_type": "code",
        "colab": {}
      },
      "cell_type": "code",
      "source": [
        "#CREATING DATAFRAME \n",
        "df = pd.DataFrame(d)"
      ],
      "execution_count": 0,
      "outputs": []
    },
    {
      "metadata": {
        "id": "6ZrI6jYeojLl",
        "colab_type": "code",
        "outputId": "4d80a7f8-3517-4176-fd9b-6ab0577a8d1b",
        "colab": {
          "base_uri": "https://localhost:8080/",
          "height": 80
        }
      },
      "cell_type": "code",
      "source": [
        "df"
      ],
      "execution_count": 0,
      "outputs": [
        {
          "output_type": "execute_result",
          "data": {
            "text/html": [
              "<div>\n",
              "<style scoped>\n",
              "    .dataframe tbody tr th:only-of-type {\n",
              "        vertical-align: middle;\n",
              "    }\n",
              "\n",
              "    .dataframe tbody tr th {\n",
              "        vertical-align: top;\n",
              "    }\n",
              "\n",
              "    .dataframe thead th {\n",
              "        text-align: right;\n",
              "    }\n",
              "</style>\n",
              "<table border=\"1\" class=\"dataframe\">\n",
              "  <thead>\n",
              "    <tr style=\"text-align: right;\">\n",
              "      <th></th>\n",
              "      <th>Facebook_handle</th>\n",
              "      <th>LinkedIn_handle</th>\n",
              "      <th>Name</th>\n",
              "      <th>Slack_handle</th>\n",
              "      <th>Url</th>\n",
              "    </tr>\n",
              "  </thead>\n",
              "  <tbody>\n",
              "    <tr>\n",
              "      <th>0</th>\n",
              "      <td>https://www.facebook.com/Inspireai-21205029548...</td>\n",
              "      <td>https://www.linkedin.com/company/inspire-ai/</td>\n",
              "      <td>Inspire Ai</td>\n",
              "      <td>https://join.slack.com/t/ignitedmindsinspireai...</td>\n",
              "      <td>http://www.inspire-ai.io/</td>\n",
              "    </tr>\n",
              "  </tbody>\n",
              "</table>\n",
              "</div>"
            ],
            "text/plain": [
              "                                     Facebook_handle  \\\n",
              "0  https://www.facebook.com/Inspireai-21205029548...   \n",
              "\n",
              "                                LinkedIn_handle        Name  \\\n",
              "0  https://www.linkedin.com/company/inspire-ai/  Inspire Ai   \n",
              "\n",
              "                                        Slack_handle  \\\n",
              "0  https://join.slack.com/t/ignitedmindsinspireai...   \n",
              "\n",
              "                         Url  \n",
              "0  http://www.inspire-ai.io/  "
            ]
          },
          "metadata": {
            "tags": []
          },
          "execution_count": 50
        }
      ]
    },
    {
      "metadata": {
        "id": "xeXPbSL4okff",
        "colab_type": "code",
        "colab": {}
      },
      "cell_type": "code",
      "source": [
        "df.to_csv('social_links.csv')"
      ],
      "execution_count": 0,
      "outputs": []
    },
    {
      "metadata": {
        "id": "bqzo81eqp0Eu",
        "colab_type": "code",
        "colab": {}
      },
      "cell_type": "code",
      "source": [
        " from google.colab import files\n",
        "files.download('social_links.csv') "
      ],
      "execution_count": 0,
      "outputs": []
    },
    {
      "metadata": {
        "id": "ss1jxJcvp37R",
        "colab_type": "code",
        "colab": {}
      },
      "cell_type": "code",
      "source": [
        ""
      ],
      "execution_count": 0,
      "outputs": []
    }
  ]
}